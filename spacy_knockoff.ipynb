{
 "cells": [
  {
   "cell_type": "code",
   "execution_count": 1,
   "metadata": {},
   "outputs": [],
   "source": [
    "import pandas as pd\n",
    "import numpy as np\n",
    "import spacy\n",
    "import art.config\n",
    "art.config.ART_NUMPY_DTYPE = 'str' # override dtype to str instead of float\n",
    "\n",
    "from art.estimators.classification import BlackBoxClassifier\n",
    "from art.attacks.extraction import KnockoffNets\n",
    "from spacy_clf import SpacyClassifier"
   ]
  },
  {
   "cell_type": "code",
   "execution_count": 2,
   "metadata": {},
   "outputs": [],
   "source": [
    "texts = pd.read_csv('res/fake-news/train.csv')['text'].to_numpy()"
   ]
  },
  {
   "cell_type": "code",
   "execution_count": 3,
   "metadata": {},
   "outputs": [],
   "source": [
    "blackbox_classifier = SpacyClassifier(model = spacy.load('blackbox-models/fake-news/'))"
   ]
  },
  {
   "cell_type": "code",
   "execution_count": 4,
   "metadata": {},
   "outputs": [],
   "source": [
    "knockoff = KnockoffNets(classifier = blackbox_classifier, batch_size_fit=32, batch_size_query=32, nb_stolen=100, sampling_strategy='random')"
   ]
  },
  {
   "cell_type": "code",
   "execution_count": 5,
   "metadata": {},
   "outputs": [
    {
     "data": {
      "text/plain": [
       "SpacyClassifier(model=<spacy.lang.en.English object at 0x0000019E9EBDF7F0>, clip_values=None, preprocessing_defences=None, postprocessing_defences=None, preprocessing=(0, 1), input_shape=(1,), classes=['False', 'True'], nb_classes=2, architecture=simple_cnn, exclusive_classes=True)"
      ]
     },
     "execution_count": 5,
     "metadata": {},
     "output_type": "execute_result"
    }
   ],
   "source": [
    "np.random.seed(23435432)\n",
    "thieved_classifier = SpacyClassifier(model = spacy.load(\"en_core_web_sm\"), target_classes=['False', 'True'])\n",
    "knockoff.extract(x = texts, thieved_classifier=thieved_classifier)"
   ]
  },
  {
   "cell_type": "code",
   "execution_count": 6,
   "metadata": {},
   "outputs": [
    {
     "data": {
      "text/plain": [
       "array([[1.00000000e+00, 1.51131019e-08],\n",
       "       [9.99956489e-01, 4.35040492e-05],\n",
       "       [9.99998927e-01, 1.09775499e-06],\n",
       "       [1.00000000e+00, 2.86335378e-09],\n",
       "       [1.00000000e+00, 2.04748769e-08],\n",
       "       [9.99999881e-01, 7.37204786e-08],\n",
       "       [9.99999881e-01, 1.77476437e-07],\n",
       "       [1.00000000e+00, 1.79037976e-08],\n",
       "       [9.99999881e-01, 1.32739643e-07],\n",
       "       [1.00000000e+00, 1.35752840e-08],\n",
       "       [9.99999881e-01, 1.17084134e-07],\n",
       "       [9.99999762e-01, 1.94951312e-07],\n",
       "       [1.00000000e+00, 2.45807730e-08],\n",
       "       [9.99999881e-01, 8.12786638e-08],\n",
       "       [9.99949217e-01, 5.07527257e-05],\n",
       "       [9.99999881e-01, 1.53873671e-07],\n",
       "       [9.99999762e-01, 2.06596113e-07],\n",
       "       [1.00000000e+00, 4.81961493e-09],\n",
       "       [1.00000000e+00, 7.53924301e-09],\n",
       "       [9.99998093e-01, 1.87481555e-06],\n",
       "       [9.99999881e-01, 8.55446629e-08],\n",
       "       [9.99999881e-01, 1.78417963e-07],\n",
       "       [9.99999523e-01, 4.69952425e-07],\n",
       "       [9.99999881e-01, 7.61233210e-08],\n",
       "       [9.99999881e-01, 1.68283421e-07],\n",
       "       [1.00000000e+00, 1.85804296e-08],\n",
       "       [9.98322427e-01, 1.67752116e-03],\n",
       "       [1.00000000e+00, 1.93190779e-08],\n",
       "       [1.00000000e+00, 1.09760636e-08],\n",
       "       [9.99999642e-01, 3.45930857e-07],\n",
       "       [1.00000000e+00, 1.78665118e-08],\n",
       "       [1.00000000e+00, 3.44140272e-09],\n",
       "       [9.99987483e-01, 1.25320039e-05],\n",
       "       [1.00000000e+00, 3.44140272e-09],\n",
       "       [1.00000000e+00, 1.53925264e-08],\n",
       "       [1.00000000e+00, 2.43131257e-08],\n",
       "       [1.00000000e+00, 1.82522530e-08],\n",
       "       [1.00000000e+00, 2.13649063e-08],\n",
       "       [9.99999881e-01, 8.75886670e-08],\n",
       "       [9.99998808e-01, 1.24440805e-06]])"
      ]
     },
     "execution_count": 6,
     "metadata": {},
     "output_type": "execute_result"
    }
   ],
   "source": [
    "blackbox_classifier.predict(texts[-40:])"
   ]
  },
  {
   "cell_type": "code",
   "execution_count": 7,
   "metadata": {},
   "outputs": [
    {
     "data": {
      "text/plain": [
       "array([[3.32257259e-05, 9.99966741e-01],\n",
       "       [2.31558647e-06, 9.99997735e-01],\n",
       "       [2.46292693e-05, 9.99975324e-01],\n",
       "       [2.65831045e-06, 9.99997377e-01],\n",
       "       [2.68317708e-05, 9.99973178e-01],\n",
       "       [1.05078077e-04, 9.99894857e-01],\n",
       "       [8.25811730e-06, 9.99991775e-01],\n",
       "       [3.04023306e-05, 9.99969602e-01],\n",
       "       [7.66028916e-06, 9.99992371e-01],\n",
       "       [7.82315692e-05, 9.99921799e-01],\n",
       "       [5.73770149e-06, 9.99994278e-01],\n",
       "       [1.81871019e-05, 9.99981761e-01],\n",
       "       [3.78332561e-06, 9.99996185e-01],\n",
       "       [1.40686316e-05, 9.99985933e-01],\n",
       "       [1.41176897e-05, 9.99985933e-01],\n",
       "       [6.37812900e-06, 9.99993563e-01],\n",
       "       [2.25230679e-06, 9.99997735e-01],\n",
       "       [9.24116175e-05, 9.99907613e-01],\n",
       "       [5.99971690e-06, 9.99994040e-01],\n",
       "       [2.06773300e-04, 9.99793231e-01],\n",
       "       [7.78324284e-06, 9.99992251e-01],\n",
       "       [2.06956483e-05, 9.99979258e-01],\n",
       "       [1.05684248e-05, 9.99989390e-01],\n",
       "       [3.38012910e-06, 9.99996662e-01],\n",
       "       [2.89143110e-03, 9.97108638e-01],\n",
       "       [4.74695571e-06, 9.99995232e-01],\n",
       "       [9.60628404e-06, 9.99990344e-01],\n",
       "       [3.72091495e-06, 9.99996305e-01],\n",
       "       [1.57954346e-05, 9.99984145e-01],\n",
       "       [2.97719089e-06, 9.99997020e-01],\n",
       "       [5.60075978e-06, 9.99994397e-01],\n",
       "       [3.93107302e-06, 9.99996066e-01],\n",
       "       [7.34560081e-06, 9.99992609e-01],\n",
       "       [2.02920783e-05, 9.99979734e-01],\n",
       "       [1.87821188e-05, 9.99981165e-01],\n",
       "       [1.19492133e-05, 9.99988079e-01],\n",
       "       [3.93776281e-06, 9.99996066e-01],\n",
       "       [1.31393826e-05, 9.99986887e-01],\n",
       "       [3.93104301e-06, 9.99996066e-01],\n",
       "       [3.09237134e-06, 9.99996901e-01]])"
      ]
     },
     "execution_count": 7,
     "metadata": {},
     "output_type": "execute_result"
    }
   ],
   "source": [
    "thieved_classifier.predict(texts[:40])"
   ]
  }
 ],
 "metadata": {
  "kernelspec": {
   "display_name": "Python 3",
   "language": "python",
   "name": "python3"
  },
  "language_info": {
   "codemirror_mode": {
    "name": "ipython",
    "version": 3
   },
   "file_extension": ".py",
   "mimetype": "text/x-python",
   "name": "python",
   "nbconvert_exporter": "python",
   "pygments_lexer": "ipython3",
   "version": "3.7.3"
  },
  "widgets": {
   "application/vnd.jupyter.widget-state+json": {
    "state": {},
    "version_major": 2,
    "version_minor": 0
   }
  }
 },
 "nbformat": 4,
 "nbformat_minor": 4
}
