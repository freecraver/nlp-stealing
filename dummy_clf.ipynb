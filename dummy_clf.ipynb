{
 "cells": [
  {
   "cell_type": "code",
   "execution_count": 1,
   "metadata": {},
   "outputs": [],
   "source": [
    "import pandas as pd\n",
    "import numpy as np\n",
    "from sklearn.metrics import precision_recall_fscore_support"
   ]
  },
  {
   "cell_type": "code",
   "execution_count": 2,
   "metadata": {},
   "outputs": [
    {
     "name": "stdout",
     "output_type": "stream",
     "text": [
      "Evaluating dummy clf for use case fake-news\n",
      "Using label True for train + test set\n",
      "(0.258, 0.5, 0.3403693931398417, None)\n",
      "(0.2606261489610607, 0.5, 0.3426468434158489, None)\n",
      "Evaluating dummy clf for use case spam\n",
      "Using label ham for train + test set\n",
      "(0.43475, 0.5, 0.46509761968440766, None)\n",
      "(0.43262730959891843, 0.5, 0.4638801642908916, None)\n",
      "Evaluating dummy clf for use case hate-speech\n"
     ]
    },
    {
     "name": "stderr",
     "output_type": "stream",
     "text": [
      "E:\\Python\\Anaconda3\\lib\\site-packages\\sklearn\\metrics\\_classification.py:1272: UndefinedMetricWarning: Precision and F-score are ill-defined and being set to 0.0 in labels with no predicted samples. Use `zero_division` parameter to control this behavior.\n",
      "  _warn_prf(average, modifier, msg_start, len(result))\n"
     ]
    },
    {
     "name": "stdout",
     "output_type": "stream",
     "text": [
      "Using label Offensive_Language for train + test set\n",
      "(0.26016666666666666, 0.3333333333333333, 0.2922400074885332, None)\n",
      "(0.2578212007694644, 0.3333333333333333, 0.29075443153598035, None)\n"
     ]
    }
   ],
   "source": [
    "for use_case in ['fake-news', 'spam', 'hate-speech']:\n",
    "    print(\"Evaluating dummy clf for use case\", use_case)\n",
    "    df = pd.read_csv(f'res/{use_case}/train.csv')\n",
    "    (v,c) = np.unique(df['target'], return_counts=True)\n",
    "    major_label = v[np.argmax(c)]\n",
    "    print(\"Using label\", major_label, \"for train + test set\")\n",
    "    \n",
    "    df_train_eval = df.sample(n=2000, random_state=212132)\n",
    "    train_labels = df_train_eval['target'].to_numpy()\n",
    "    print(precision_recall_fscore_support(train_labels, np.repeat(major_label, len(train_labels)), average='macro'))\n",
    "    \n",
    "    df_test = pd.read_csv(f'res/{use_case}/test.csv')\n",
    "    test_eval_labels = df['target'].to_numpy()\n",
    "    print(precision_recall_fscore_support(test_eval_labels, np.repeat(major_label, len(test_eval_labels)), average='macro'))\n",
    "    "
   ]
  }
 ],
 "metadata": {
  "kernelspec": {
   "display_name": "Python 3",
   "language": "python",
   "name": "python3"
  },
  "language_info": {
   "codemirror_mode": {
    "name": "ipython",
    "version": 3
   },
   "file_extension": ".py",
   "mimetype": "text/x-python",
   "name": "python",
   "nbconvert_exporter": "python",
   "pygments_lexer": "ipython3",
   "version": "3.7.3"
  },
  "widgets": {
   "application/vnd.jupyter.widget-state+json": {
    "state": {},
    "version_major": 2,
    "version_minor": 0
   }
  }
 },
 "nbformat": 4,
 "nbformat_minor": 4
}
